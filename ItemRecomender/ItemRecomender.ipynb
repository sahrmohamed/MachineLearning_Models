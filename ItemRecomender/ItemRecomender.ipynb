{
 "cells": [
  {
   "cell_type": "code",
   "execution_count": 56,
   "id": "da2320c5",
   "metadata": {},
   "outputs": [
    {
     "data": {
      "text/html": [
       "<div>\n",
       "<style scoped>\n",
       "    .dataframe tbody tr th:only-of-type {\n",
       "        vertical-align: middle;\n",
       "    }\n",
       "\n",
       "    .dataframe tbody tr th {\n",
       "        vertical-align: top;\n",
       "    }\n",
       "\n",
       "    .dataframe thead th {\n",
       "        text-align: right;\n",
       "    }\n",
       "</style>\n",
       "<table border=\"1\" class=\"dataframe\">\n",
       "  <thead>\n",
       "    <tr style=\"text-align: right;\">\n",
       "      <th></th>\n",
       "      <th>item</th>\n",
       "      <th>price</th>\n",
       "    </tr>\n",
       "  </thead>\n",
       "  <tbody>\n",
       "    <tr>\n",
       "      <th>0</th>\n",
       "      <td>laptop</td>\n",
       "      <td>300</td>\n",
       "    </tr>\n",
       "    <tr>\n",
       "      <th>1</th>\n",
       "      <td>monitor</td>\n",
       "      <td>100</td>\n",
       "    </tr>\n",
       "    <tr>\n",
       "      <th>2</th>\n",
       "      <td>chair</td>\n",
       "      <td>200</td>\n",
       "    </tr>\n",
       "    <tr>\n",
       "      <th>3</th>\n",
       "      <td>chromebook</td>\n",
       "      <td>150</td>\n",
       "    </tr>\n",
       "    <tr>\n",
       "      <th>4</th>\n",
       "      <td>desk</td>\n",
       "      <td>135</td>\n",
       "    </tr>\n",
       "  </tbody>\n",
       "</table>\n",
       "</div>"
      ],
      "text/plain": [
       "         item  price\n",
       "0      laptop    300\n",
       "1    monitor     100\n",
       "2      chair     200\n",
       "3  chromebook    150\n",
       "4       desk     135"
      ]
     },
     "execution_count": 56,
     "metadata": {},
     "output_type": "execute_result"
    }
   ],
   "source": [
    "import pandas as pd \n",
    "from sklearn.tree import DecisionTreeClassifier\n",
    "\n",
    "item_data = pd.read_csv('item.csv')\n",
    "X = item_data.drop(columns = ['item'])\n",
    "y = item_data.drop(columns = ['price'])\n",
    "\n",
    "item_data"
   ]
  },
  {
   "cell_type": "code",
   "execution_count": 49,
   "id": "02e6c3aa",
   "metadata": {},
   "outputs": [
    {
     "data": {
      "text/plain": [
       "DecisionTreeClassifier()"
      ]
     },
     "execution_count": 49,
     "metadata": {},
     "output_type": "execute_result"
    }
   ],
   "source": [
    "itemPredictModel = DecisionTreeClassifier()\n",
    "itemPredictModel.fit(X, y)"
   ]
  },
  {
   "cell_type": "code",
   "execution_count": 66,
   "id": "5ab94009",
   "metadata": {},
   "outputs": [
    {
     "name": "stdout",
     "output_type": "stream",
     "text": [
      "['laptop']\n"
     ]
    },
    {
     "name": "stderr",
     "output_type": "stream",
     "text": [
      "C:\\Users\\USER\\anaconda3\\lib\\site-packages\\sklearn\\base.py:450: UserWarning: X does not have valid feature names, but DecisionTreeClassifier was fitted with feature names\n",
      "  warnings.warn(\n"
     ]
    }
   ],
   "source": [
    "predictions = itemPredictModel.predict([[270]])\n",
    "print(predictions)"
   ]
  },
  {
   "cell_type": "markdown",
   "id": "537934eb",
   "metadata": {},
   "source": [
    "### Calculating Accuracy Score"
   ]
  },
  {
   "cell_type": "code",
   "execution_count": 97,
   "id": "cbf1b558",
   "metadata": {},
   "outputs": [
    {
     "name": "stdout",
     "output_type": "stream",
     "text": [
      "Test-Price\n",
      "   price\n",
      "2    200\n",
      "Prediction: ['chromebook']\n",
      "Actual-Resul\n",
      "     item\n",
      "2  chair \n",
      "Accuracy-Score:0.0\n"
     ]
    }
   ],
   "source": [
    "from sklearn.model_selection import train_test_split\n",
    "from sklearn.metrics import accuracy_score\n",
    "\n",
    "X_train, X_test, y_train, y_test  = train_test_split(X, y, test_size = 0.2)\n",
    "\n",
    "itemPredictModel.fit(X_train, y_train)\n",
    "predictions = itemPredictModel.predict(X_test)\n",
    "score = accuracy_score(predictions, y_test)\n",
    "\n",
    "print('Test-Price')\n",
    "print(X_test)\n",
    "print(f'Prediction: {predictions}')\n",
    "print('Actual-Resul')\n",
    "print(y_test)    \n",
    "print(f'Accuracy-Score:{score}')"
   ]
  },
  {
   "cell_type": "markdown",
   "id": "f7660bc4",
   "metadata": {},
   "source": [
    "### Persisting Model"
   ]
  }
 ],
 "metadata": {
  "kernelspec": {
   "display_name": "Python 3 (ipykernel)",
   "language": "python",
   "name": "python3"
  },
  "language_info": {
   "codemirror_mode": {
    "name": "ipython",
    "version": 3
   },
   "file_extension": ".py",
   "mimetype": "text/x-python",
   "name": "python",
   "nbconvert_exporter": "python",
   "pygments_lexer": "ipython3",
   "version": "3.9.12"
  }
 },
 "nbformat": 4,
 "nbformat_minor": 5
}
